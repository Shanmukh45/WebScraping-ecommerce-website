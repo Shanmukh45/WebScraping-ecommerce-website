{
 "cells": [
  {
   "cell_type": "code",
   "execution_count": null,
   "id": "12d675bb",
   "metadata": {},
   "outputs": [],
   "source": [
    "import selenium\n",
    "from selenium import webdriver as wb\n",
    "import pandas as pd\n",
    "import time\n",
    "from tqdm import tqdm"
   ]
  },
  {
   "cell_type": "code",
   "execution_count": null,
   "id": "e68848c0",
   "metadata": {},
   "outputs": [],
   "source": [
    "wbD = wb.Chrome('chromedriver.exe')"
   ]
  },
  {
   "cell_type": "code",
   "execution_count": null,
   "id": "fa50fc91",
   "metadata": {},
   "outputs": [],
   "source": [
    "wbD.get('https://www.commerciallawpublishers.com/')\n",
    "publications=wbD.find_element_by_class_name('dropdown-content')\n",
    "arr=publications.find_elements_by_tag_name('a')\n",
    "links=[]\n",
    "cat=[]\n",
    "for i in arr:\n",
    "    links.append(i.get_attribute('href'))\n",
    "    cat.append(i.get_attribute('innerHTML'))"
   ]
  },
  {
   "cell_type": "code",
   "execution_count": null,
   "id": "dde2811c",
   "metadata": {
    "scrolled": true
   },
   "outputs": [],
   "source": [
    "alldetails=[]\n",
    "for i in range(len(links)):\n",
    "    try:\n",
    "        print(\"going to publication:\",i+1)\n",
    "        wbD.get(links[i])\n",
    "        category=cat[i].strip()\n",
    "        listOflinks =[]\n",
    "        condition =True\n",
    "        page=1\n",
    "        while condition:\n",
    "            time.sleep(3)\n",
    "            productInfoList=wbD.find_elements_by_class_name('tab-p-info')\n",
    "            for el in productInfoList:\n",
    "                pp2=el.find_element_by_tag_name('a')\n",
    "                listOflinks.append(pp2.get_property('href'))\n",
    "            try:\n",
    "                wbD.find_element_by_link_text(\"Next\").get_property('href')\n",
    "                wbD.find_element_by_link_text(\"Next\").click()\n",
    "            except:\n",
    "                condition=False\n",
    "        for i in tqdm(listOflinks):\n",
    "            try:\n",
    "                wbD.get(i)\n",
    "                time.sleep(3)\n",
    "                name = wbD.find_element_by_class_name('mt0').text\n",
    "                price=wbD.find_element_by_class_name('sp-price').text\n",
    "                temp ={\n",
    "                    'Product Name':name,\n",
    "                    'Category Name':category,\n",
    "                    'Availability':'-',\n",
    "                    'Book Format':'-',\n",
    "                    'Language':'-',\n",
    "                    'Writer':'-',\n",
    "                    'ISBN':'-',\n",
    "                    'EDITION':'-',\n",
    "                    'PRODUCTION YEAR':'-',\n",
    "                    'price':price,\n",
    "                    'linkofproduct':i\n",
    "                }\n",
    "                hello=wbD.find_element_by_class_name('single-product-info').find_elements_by_tag_name('p')\n",
    "                for i in hello:\n",
    "                    try:\n",
    "                        column=i.find_element_by_tag_name('b').text\n",
    "                        value=i.find_element_by_class_name('color1').text\n",
    "                        temp[column[:len(column)-1]]=value\n",
    "                    except:\n",
    "                        continue\n",
    "               # print(temp)\n",
    "                alldetails.append(temp)\n",
    "            except:\n",
    "                continue\n",
    "    except:\n",
    "        continue\n",
    "        \n",
    "data = pd.DataFrame(alldetails)  "
   ]
  },
  {
   "cell_type": "code",
   "execution_count": null,
   "id": "a469b5b6",
   "metadata": {},
   "outputs": [],
   "source": [
    "from_6=data.copy()\n",
    "data=from_6[['price']].copy()\n",
    "data['price'] = data['price'].astype('str')\n",
    "lion=data['price'].str.split('/-')\n",
    "main_price=[]\n",
    "offer=[]\n",
    "old_price=[]\n",
    "for p in lion:\n",
    "    if len(p)==3:\n",
    "        main_price.append(p[0].strip())\n",
    "        old_price.append(p[1].strip())\n",
    "        offer.append(p[2].strip())\n",
    "    else:\n",
    "        main_price.append(p[0].strip())\n",
    "        old_price.append('-')\n",
    "        offer.append('-')\n",
    "from_6['main_price']=main_price\n",
    "from_6['old_price']=old_price\n",
    "from_6['offer']=offer\n",
    "from_6.drop(['price'], axis = 1,inplace=True)"
   ]
  },
  {
   "cell_type": "code",
   "execution_count": null,
   "id": "7fae50af",
   "metadata": {},
   "outputs": [],
   "source": [
    "from_6.to_excel('final.xlsx')"
   ]
  }
 ],
 "metadata": {
  "kernelspec": {
   "display_name": "Python 3",
   "language": "python",
   "name": "python3"
  },
  "language_info": {
   "codemirror_mode": {
    "name": "ipython",
    "version": 3
   },
   "file_extension": ".py",
   "mimetype": "text/x-python",
   "name": "python",
   "nbconvert_exporter": "python",
   "pygments_lexer": "ipython3",
   "version": "3.8.10"
  }
 },
 "nbformat": 4,
 "nbformat_minor": 5
}
